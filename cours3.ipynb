{
 "cells": [
  {
   "cell_type": "markdown",
   "metadata": {},
   "source": [
    "# cours \"python avancé\" -- semaine 3\n"
   ]
  },
  {
   "cell_type": "markdown",
   "metadata": {},
   "source": [
    "## retour sur exercices \n",
    "\n",
    "* calculette postfix -- le cas échéant  \n",
    "    <https://nbhosting.inria.fr/auditor/notebook/python3-s2:exos/w6/w6-s9-x1-exos-en-vrac>  \n",
    "  chercher l'exercice intitulé \"*évaluateur d'expression postfix (6 kyu)*\"\n",
    "\n",
    "* TP: pagerank sur l'usage des dictionnaires  \n",
    "  <https://nbhosting.inria.fr/auditor/notebook/python-slides:%C3%A9chantillons/samples/12-thrones>  \n",
    "  \n",
    "\n",
    "## PEP008\n",
    "\n",
    "* slides : l'essentiel de la norme de présentation (8 slides)  \n",
    "https://nbhosting.inria.fr/auditor/notebook/python-slides:slides/slides/03-4-pep008\n",
    "\n",
    "\n",
    "## expressions régulières\n",
    "\n",
    "* slides : les expressions régulières (22 slides)  \n",
    "<https://nbhosting.inria.fr/auditor/notebook/python-slides/slides/02-6-regexps>\n",
    "\n",
    "* exos: expressions régulieres  \n",
    "<https://nbhosting.inria.fr/auditor/notebook/python3-s2:exos/w2/w2-s2-x1-expressions-regulieres>\n",
    "\n",
    "* jeu :  \n",
    "<https://regexcrossword.com> : [commencez par ici](https://regexcrossword.com/challenges/beginner/puzzles/2)\n",
    "\n",
    "\n",
    "***\n",
    "\n",
    "## itérations\n",
    "\n",
    "* slides : (49 slides) les 1001 façons d'itérer en Python :  \n",
    "  la boucle `for`, itérateurs de la librairie standard, \n",
    "  compréhensions, expressions génératrices, et fonctions génératrices\n",
    "  <https://nbhosting.inria.fr/auditor/notebook/python-slides:slides/slides/03-3-iterations>\n",
    "\n",
    "* exos :\n",
    "\n",
    "  * compréhensions : <https://nbhosting.inria.fr/auditor/notebook/python3-s2:exos/w5/w5-s3-x1-comprehensions>\n",
    "  * le code vigenere : <https://nbhosting.inria.fr/auditor/notebook/python3-s2:exos/w5/w5-s3-x2-vigenere>\n",
    "  * calcul des impôts : <https://nbhosting.inria.fr/auditor/notebook/python3-s2:exos/w4/w4-s3-x2-taxes>"
   ]
  },
  {
   "cell_type": "markdown",
   "metadata": {},
   "source": [
    "## rappel - solutions\n",
    "\n",
    "lorsqu'elles sont publiées, les solutions se trouvent dans :\n",
    "https://github.com/pythonadvanced/solutions\n",
    "\n",
    "***\n",
    "\n",
    "## pour aller plus loin\n",
    "\n",
    "* *notebook : les expressions régulières - **en option seulement**, pour approfondir*  \n",
    "<https://nbhosting.inria.fr/auditor/notebook/python3-s2:mooc/w2/w2-s2-c4-expressions-regulieres>\n",
    "\n",
    "***"
   ]
  }
 ],
 "metadata": {
  "jupytext": {
   "cell_metadata_filter": "all",
   "notebook_metadata_filter": "all,-language_info"
  },
  "kernelspec": {
   "display_name": "Python 3",
   "language": "python",
   "name": "python3"
  },
  "language_info": {
   "codemirror_mode": {
    "name": "ipython",
    "version": 3
   },
   "file_extension": ".py",
   "mimetype": "text/x-python",
   "name": "python",
   "nbconvert_exporter": "python",
   "pygments_lexer": "ipython3",
   "version": "3.7.3"
  },
  "notebookname": "itérations"
 },
 "nbformat": 4,
 "nbformat_minor": 4
}
