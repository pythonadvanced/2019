{
 "cells": [
  {
   "cell_type": "markdown",
   "metadata": {},
   "source": [
    "# cours ***Python avancé*** - semaine 6"
   ]
  },
  {
   "cell_type": "markdown",
   "metadata": {},
   "source": [
    "le thème du jour :\n",
    "* finaliser les classes\n",
    "* étudier les fonctions"
   ]
  },
  {
   "cell_type": "markdown",
   "metadata": {
    "slideshow": {
     "slide_type": "subslide"
    }
   },
   "source": [
    "## les classes\n",
    "\n",
    "tous les groupes ne sont pas arrivés au même point concernant les classes; \n",
    "reprendre si nécessaire [le cours #5](cours5.ipynb) pour avoir couvert\n",
    "\n",
    "* les espaces de nom\n",
    "* les properties (exo sur les températures)\n",
    "* l'héritage (exo sur le mini-langage d'expressions)\n",
    "* la surcharge des opérateurs grâce aux méthodes spéciales (exos sur les polynômes)"
   ]
  },
  {
   "cell_type": "markdown",
   "metadata": {},
   "source": [
    "## les fonctions"
   ]
  },
  {
   "cell_type": "markdown",
   "metadata": {},
   "source": [
    "* slides : [les fonctions au format PDF](https://www.icloud.com/attachment/?u=https%3A%2F%2Fcvws.icloud-content.com%2FB%2FAVBdvwivLt45hxul1Ux5M0KkZ3DRAc2qTE9S_w5DXA5KgH_hWkO8-fI6%2F%24%7Bf%7D%3Fo%3DAg9CS71V9cVj6TGgq0571VLK_lIwnlcJLunuq0B7eWup%26v%3D1%26x%3D3%26a%3DCAogrYVMhXAhU93CDPstpYGUs1LdJnynyWqcJnlgEhQkF9USJxDN7pmD7S0Yzf6U1_YtIgEAKggByAD_E1OAw1IEpGdw0VoEvPnyOg%26e%3D1578046406%26k%3D%24%7Buk%7D%26fl%3D%26r%3DAC53B76E-1FD0-4F7F-BE9A-B04621AA03E5-1%26ckc%3Dcom.apple.largeattachment%26ckz%3D577C7FEE-39F3-45AF-86D2-0816300286D7%26p%3D47%26s%3DZhKGTh003YSleXKaE_ayHu9QY80&uk=wVmcrX7RsKsy4I9xPZmYcw&f=presentation-public.pdf&sz=44598164)\n",
    "\n",
    "* illustration des fonctions comme citoyens de première classe  \n",
    "  <https://nbhosting.inria.fr/auditor/notebook/python-slides:%C3%A9chantillons/samples/40-variables-substitutions>\n",
    "\n",
    "* slides de complément : (20) ***type hints*** \n",
    "  * <https://nbhosting.inria.fr/auditor/notebook/python-slides:slides/slides/07-4-type-hints>\n",
    "  \n",
    "* exercices auto-corrigés :\n",
    "  * passage d'arguments  \n",
    "    <https://nbhosting.inria.fr/auditor/notebook/python3-s2:exos/w4/w4-s6-x1-passage-arguments>\n",
    "  * objets de type fonction en arguments  \n",
    "    <https://nbhosting.inria.fr/auditor/notebook/python3-s2:exos/w5/w5-s2-x2-doubler-premier>\n",
    "  * idem \n",
    "    <https://nbhosting.inria.fr/auditor/notebook/python3-s2:exos/w5/w5-s2-x3-compare>\n"
   ]
  },
  {
   "cell_type": "markdown",
   "metadata": {},
   "source": [
    "### et toujours en option :\n",
    "\n",
    "* des notebooks extraits du MOOC qui illustrent quelques **autres outils** pour **créer** de nouveaux **types**\n",
    "  * les `Enum`s : <https://nbhosting.inria.fr/auditor/notebook/python3-s2:mooc/w6/w6-s3-c4-enums>\n",
    "  * les `namedtuple`s : <https://nbhosting.inria.fr/auditor/notebook/python3-s2:mooc/w6/w6-s3-c2-namedtuple>\n",
    "  * les `dataclass`es : <https://nbhosting.inria.fr/auditor/notebook/python3-s2:mooc/w6/w6-s3-c3-dataclasses>"
   ]
  },
  {
   "cell_type": "markdown",
   "metadata": {},
   "source": [
    "### lecture de code : \n",
    "* le code du serpent (du cours #1) écrit sous forme de classes  \n",
    "  un code que vous devriez maintenant être capable de lire en entier  \n",
    "    https://github.com/pythonadvanced/snake-step-by-step/tree/multiclass  "
   ]
  },
  {
   "cell_type": "markdown",
   "metadata": {},
   "source": [
    "## rappel - solutions\n",
    "\n",
    "lorsqu'elles sont publiées, les solutions se trouvent dans :\n",
    "https://github.com/pythonadvanced/solutions\n",
    "\n",
    "***"
   ]
  }
 ],
 "metadata": {
  "jupytext": {
   "cell_metadata_filter": "all",
   "notebook_metadata_filter": "all,-language_info",
   "text_representation": {
    "extension": ".py",
    "format_name": "percent",
    "format_version": "1.2",
    "jupytext_version": "1.1.7"
   }
  },
  "kernelspec": {
   "display_name": "Python 3",
   "language": "python",
   "name": "python3"
  },
  "language_info": {
   "codemirror_mode": {
    "name": "ipython",
    "version": 3
   },
   "file_extension": ".py",
   "mimetype": "text/x-python",
   "name": "python",
   "nbconvert_exporter": "python",
   "pygments_lexer": "ipython3",
   "version": "3.7.3"
  },
  "notebookname": "classes (fin) et fonctions"
 },
 "nbformat": 4,
 "nbformat_minor": 4
}
