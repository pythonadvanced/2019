{
 "cells": [
  {
   "cell_type": "markdown",
   "metadata": {},
   "source": [
    "# cours \"python avancé\" -- semaine 1\n",
    "\n",
    "## prise en mains - un projet complet de A à Z\n",
    "\n",
    "le jeu du serpent réalisé en `pygame`\n",
    "\n",
    "*** \n",
    "\n",
    "### première itération\n",
    "\n",
    "* pas à pas en suivant les étapes indiquées dans le pdf joint\n",
    "* en committant chacune de ces étapes sous git\n",
    "* objectifs: que chacun utilise la palette complète d'outils\n",
    "  * éditeur de code pour écrire (VScode est recommandé)\n",
    "  * interpréteur Python pour exécuter\n",
    "  * git pour construire l'historique du projet\n",
    "  * terminal pour coordonner le tout le cas échéant\n",
    "\n",
    "#### ressources\n",
    "\n",
    "* [support PDF pour le jeu du serpent](https://github.com/pythonadvanced/2019S1/blob/master/slides.pdf)  \n",
    "  <https://github.com/pythonadvanced/2019S1/blob/master/slides.pdf>\n",
    "\n",
    "* [le corrigé sous forme de dépôt git](https://github.com/pythonadvanced/snake-step-by-step)  \n",
    "  <https://github.com/pythonadvanced/snake-step-by-step>  \n",
    "  si vous clônez ce dépôt, vous verrez dans la branche `master` autant de commits que d'étapes dans le TP\n",
    "\n",
    "***\n",
    "\n",
    "### dans un second temps\n",
    "\n",
    "* la correction propose également une version très élaborée dans la branche `multiclass`\n",
    "* qui repose sur plusieurs classes, réparties dans plusieurs modules et un package\n",
    "* avec des exemples de *docstring*, et quelques test unitaires\n",
    "* et un `setup.py` permettant d'installer \n",
    "* objectifs:\n",
    "  * illustrer et montrer ces concepts relativement avancés sur un projet concret"
   ]
  }
 ],
 "metadata": {
  "kernelspec": {
   "display_name": "Python 3",
   "language": "python",
   "name": "python3"
  },
  "language_info": {
   "codemirror_mode": {
    "name": "ipython",
    "version": 3
   },
   "file_extension": ".py",
   "mimetype": "text/x-python",
   "name": "python",
   "nbconvert_exporter": "python",
   "pygments_lexer": "ipython3",
   "version": "3.7.3"
  },
  "notebookname": "snake in pygame"
 },
 "nbformat": 4,
 "nbformat_minor": 4
}
