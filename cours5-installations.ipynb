{
 "cells": [
  {
   "cell_type": "markdown",
   "metadata": {},
   "source": [
    "# Installations en local"
   ]
  },
  {
   "cell_type": "markdown",
   "metadata": {},
   "source": [
    "On essaie ici de décrire ce qui est attendu au minimum en termes d'installations sur votre ordinateur."
   ]
  },
  {
   "cell_type": "markdown",
   "metadata": {},
   "source": [
    "## terminal"
   ]
  },
  {
   "cell_type": "markdown",
   "metadata": {},
   "source": [
    "Vous devez avoir un programme de terminal compatible avec bash; cela ne pose pas de souci sur MacOS et Linux, sur lesquels `bash` est livré de base. Sur Windows nous recommandons *Git Bash*.\n",
    "\n",
    "**Rappel des commandes bash super-minimales**"
   ]
  },
  {
   "cell_type": "markdown",
   "metadata": {
    "cell_style": "split"
   },
   "source": [
    "```bash\n",
    "# pour savoir où on est\n",
    "pwd\n",
    "```"
   ]
  },
  {
   "cell_type": "markdown",
   "metadata": {
    "cell_style": "split"
   },
   "source": [
    "```bash\n",
    "# pour voir la liste des fichiers\n",
    "ls\n",
    "```"
   ]
  },
  {
   "cell_type": "markdown",
   "metadata": {
    "cell_style": "split"
   },
   "source": [
    "```bash\n",
    "# pour retourner dans son 'homedir'\n",
    "cd \n",
    "```"
   ]
  },
  {
   "cell_type": "markdown",
   "metadata": {
    "cell_style": "split"
   },
   "source": [
    "```bash\n",
    "# pour aller dans un répertoire\n",
    "cd un-sous-répertoire\n",
    "```"
   ]
  },
  {
   "cell_type": "markdown",
   "metadata": {
    "cell_style": "split"
   },
   "source": [
    "```bash\n",
    "# pour remonter d'un étage \n",
    "cd ..\n",
    "```\n"
   ]
  },
  {
   "cell_type": "markdown",
   "metadata": {
    "cell_style": "split"
   },
   "source": [
    "```bash\n",
    "# pensez à utiliser la touche <TAB>\n",
    "# pour la complétion des noms de fichiers\n",
    "python foo<TAB> \n",
    "# ici bash va chercher tous les fichiers\n",
    "# dont le nom commence par 'foo' et remplir\n",
    "# pour vous la seule suite possible\n",
    "```"
   ]
  },
  {
   "cell_type": "markdown",
   "metadata": {},
   "source": [
    "en particulier pour savoir où se trouve votre fameux *homedir* vous pouvez faire simplement\n",
    "\n",
    "```bash\n",
    "cd\n",
    "pwd\n",
    "```"
   ]
  },
  {
   "cell_type": "markdown",
   "metadata": {
    "slideshow": {
     "slide_type": ""
    }
   },
   "source": [
    "## arborescence de fichiers"
   ]
  },
  {
   "cell_type": "markdown",
   "metadata": {},
   "source": [
    "Il est souhaitable de bien organiser votre arborescence de fichiers, en créant des répertoires qui vous permettent de ranger vos affaires, exactement comme vous avez besoin de ranger vos supports de cours par matière; évitez toutefois les arborescences trop profondes.\n",
    "\n",
    "Dans tous les cas, vous devez avoir un répertoire de travail **que vous savez accéder** depuis à la fois **le navigateur de fichiers** et **depuis le terminal**."
   ]
  },
  {
   "cell_type": "markdown",
   "metadata": {},
   "source": [
    "Dans la suite je suppose - mais c'est juste un exemple - que vous avez créé un dossier/répertoire qui s'appelle\n",
    "`mines/info` en dessous de votre homedir."
   ]
  },
  {
   "cell_type": "markdown",
   "metadata": {},
   "source": [
    "## Python"
   ]
  },
  {
   "cell_type": "markdown",
   "metadata": {},
   "source": [
    "Vous devez pouvoir lancer un interpréteur Python directement depuis le terminal; c'est la façon *normale* de lancer un programme Python une fois qu'il est prêt à être mis en production."
   ]
  },
  {
   "cell_type": "markdown",
   "metadata": {
    "cell_style": "center"
   },
   "source": [
    "```bash\n",
    "# je vais dans mon répertoire de travail\n",
    "cd \n",
    "cd mines/info/\n",
    "\n",
    "# je clone si nécessaire le cours python-primer\n",
    "git clone https://github.com/flotpython/primer.git\n",
    "\n",
    "# du coup j'ai maintenant un sous-répertoire \n",
    "cd primer\n",
    "```"
   ]
  },
  {
   "cell_type": "markdown",
   "metadata": {},
   "source": [
    "Dans ce dépôt git il y a un répertoire `demo` qui contient deux tout petits morceaux de code;\n",
    "si votre installation est correcte, vous devez pouvoir les exécuter comme ceci\n",
    "```bash\n",
    "cd demo\n",
    "python fact.py\n",
    "python users.py\n",
    "```"
   ]
  },
  {
   "cell_type": "markdown",
   "metadata": {},
   "source": [
    "Si vous voyez un message qui indique `command not found` ou quelque chose qui indique qu'on ne sait pas à quoi correspond la commande `python`, essayez en la remplaçant par `python3`; si le problème persiste, vous avez sans doute un problème lié à la variable d'environnement `PATH`, cherchez sur Internet comment corriger votre installation."
   ]
  },
  {
   "cell_type": "markdown",
   "metadata": {},
   "source": [
    "## Jupyter"
   ]
  },
  {
   "cell_type": "markdown",
   "metadata": {},
   "source": [
    "Toujours dans le même répertoire, vous devez pouvoir lancer depuis le terminal :\n",
    "\n",
    "```bash\n",
    "jupyter notebook\n",
    "```\n",
    "\n",
    "ce qui a pour effet d'ouvrir l'interface Jupyter *classic* dans une fenêtre de votre navigateur Internet.\n",
    "Ne vous y trompez pas, vous n'utilisez pas le réseau, tout fonctionne en local sur votre ordinateur.\n",
    "\n",
    "Vous devez pouvoir sélectionner et ouvrir le notebook de test qui s'appelle `notebook.ipy`, toujours dans ce répertoire `demo`.\n",
    "\n",
    "Le mode de fonctionnement est proche de celui de `nbhosting.inria.fr`, sauf pour les cellules de texte qui sont plus faciles à modifier; remarquez la couleur verte ou bleue de la cellule sélectionnée selon le mode (edit ou commande); je vous renvoie à ce mini-cours pour approfondir https://nbhosting.inria.fr/auditor/notebook/python-slides:extras/slides-extras/03-1-notebooks-basic"
   ]
  },
  {
   "cell_type": "markdown",
   "metadata": {},
   "source": [
    "Je vous recommande chaudement de prendre l'habitude de \"nettoyer\" vos notebooks avant de les ranger dans un commit sous git; en effet, la version que vous sauvez contient tout un tas d'annnotations créées par l'évaluation de vos cellules, qui posent souvent des problèmes lorsqu'on doit merger deux variantes du même notebook.\n",
    "\n",
    "C'est pourquoi ce serait le bon moment de vérifier que vous avez installé l'outil `nbstripout` qui permet de faire ce nettoyage par la ligne de commandes - ce qui s'avère à la longue plus facile que d'utiliser le menu Jupyter *Cell* → *All Output* → *Clear*\n",
    "\n",
    "```bash\n",
    "nbstripout notebook.ipynb\n",
    "```\n",
    "\n",
    "Si la commande n'est pas disponible, installez-là depuis le terminal avec \n",
    "```bash\n",
    "pip install nbstripout\n",
    "```"
   ]
  },
  {
   "cell_type": "markdown",
   "metadata": {},
   "source": [
    "# éditeur de code"
   ]
  },
  {
   "cell_type": "markdown",
   "metadata": {},
   "source": [
    "Il vous faudra naturellement choisir un éditeur de code; à défaut d'un outil qui vous serait déjà familier, nous vous recommandons l'utilisation de *Visual Studio Code* qui est un outil gratuit et OpenSource. \n",
    "\n",
    "Si vous choisissez cet outil, nous recommandons également l'installation de l'extension qui s'appelle tout simplement `Python`, la plus populaire avec plus de 12M de téléchargements."
   ]
  },
  {
   "cell_type": "markdown",
   "metadata": {},
   "source": [
    "### objectifs\n",
    "\n",
    "Vous devez être assez confortable avec votre éditeur de code pour pouvoir :\n",
    "\n",
    "* ouvrir rapidement un fichier dont vous connaissez l'emplacement; par exemple vous devez arriver à ouvrir rapidement le fichier `mines/info/primer/demo/fact.py` \n",
    "* modifier et sauver le fichier\n",
    "* exécuter le fichier"
   ]
  },
  {
   "cell_type": "markdown",
   "metadata": {},
   "source": [
    "Par exemple, vous pourriez \n",
    "\n",
    "* ouvrir le fichier `fact.py` (toujours dans le primer) en tapant dans le terminal (dans le bon répertoire) :\n",
    "```\n",
    "code fact.py\n",
    "```\n",
    "\n",
    "* modifier `fact.py` pour afficher davantage de valeurs, comme e.g.\n",
    "\n",
    "```python\n",
    "# on affiche quelques résultats\n",
    "for n in range(10, 15):\n",
    "    print(f\"fact({n}) = {fact(n)}\")\n",
    "```\n",
    "\n",
    "* puis sauver le fichier, et le lancer pour voir apparaître\n",
    "```\n",
    "fact(10) = 3628800\n",
    "fact(11) = 39916800\n",
    "fact(12) = 479001600\n",
    "fact(13) = 6227020800\n",
    "fact(14) = 87178291200\n",
    "```"
   ]
  },
  {
   "cell_type": "markdown",
   "metadata": {},
   "source": [
    "Le principe est que la boucle  \n",
    "*modification du code* → *exécution du programme* → …  \n",
    "soit aussi indolore que possible car on est amené à la faire de multiples fois."
   ]
  },
  {
   "cell_type": "markdown",
   "metadata": {},
   "source": [
    "### méthodes possibles"
   ]
  },
  {
   "cell_type": "markdown",
   "metadata": {},
   "source": [
    "Le plus souvent il est possible d'exécuter le code directement depuis l'éditeur de code; dans vscode par exemple, avec l'extension `Python` vous devriez voir une petite flêche verte dans le coin supérieur droit, pour lancer directement le code dans un terminal *embarqué* dans l'espace de travail de l'éditeur."
   ]
  },
  {
   "cell_type": "markdown",
   "metadata": {},
   "source": [
    "On peut également choisir de faire tourner son code directement dans le terminal; dans ce cas, je vous recommande d'utiliser les raccourcis clavier qui permettent de changer rapidement d'application, de sorte à basculer instantanément entre éditeur et terminal. Sur MacOS ce raccourci est `Command-Tab`, sur Windows c'est `Alt-Tab`."
   ]
  },
  {
   "cell_type": "markdown",
   "metadata": {},
   "source": [
    "# options\n",
    "\n",
    "En option, vous pouvez également améliorer encore un peu votre environnement, si vous savez utiliser depuis votre éditeur :"
   ]
  },
  {
   "cell_type": "markdown",
   "metadata": {},
   "source": [
    "#### palette\n",
    "\n",
    "La palette est un accessoire proposée avec tous les outils modernes (dont Jupyter d'ailleurs); l'idée est de pouvoir facilement chercher une fonctionnalité; par exemple sous vscode, vous vous dites qu'il doit exister une fonction pour adjoindre deux lignes successives : vous lacez la palette avec : `Command-Control p` (sur MacOS) ou `Control-Shift p` sur Windows, puis vous tapez 'join' et vous pouvez déclencher la fonction `Join lines`  \n",
    "![](palette.png)\n",
    "\n",
    "####  `pylint` \n",
    "\n",
    "C'est un outil qui détecte les erreurs communes par analyse statique; par exemple ici j'ai fait une faute de frappe, et j'utilise une variable inconnue; grâce à pylint, `vscode` a appris, il me le signale en soulignant la variable en question `n1` avec une ligne brisée rouge, si j'approche ma souris j'obtiens des précisions :  \n",
    "![](pylint.png)\n",
    "\n",
    "* **debugger** \n",
    "\n",
    "On a parfois besoin d'inspecter les valeurs des variables à certains endroits du programme; naturellement on peut insérer des `print()` ici et là, mais cela devient vite fastidieux. Voici à quoi ressemble une session de debugging sous vscode :  \n",
    "![](debugger.png)"
   ]
  },
  {
   "cell_type": "code",
   "execution_count": null,
   "metadata": {},
   "outputs": [],
   "source": []
  }
 ],
 "metadata": {
  "jupytext": {
   "cell_metadata_filter": "all",
   "notebook_metadata_filter": "all,-language_info",
   "text_representation": {
    "extension": ".py",
    "format_name": "percent",
    "format_version": "1.2",
    "jupytext_version": "1.1.7"
   }
  },
  "kernelspec": {
   "display_name": "Python 3",
   "language": "python",
   "name": "python3"
  },
  "language_info": {
   "codemirror_mode": {
    "name": "ipython",
    "version": 3
   },
   "file_extension": ".py",
   "mimetype": "text/x-python",
   "name": "python",
   "nbconvert_exporter": "python",
   "pygments_lexer": "ipython3",
   "version": "3.7.3"
  },
  "notebookname": "vérifiez votre installe"
 },
 "nbformat": 4,
 "nbformat_minor": 2
}
