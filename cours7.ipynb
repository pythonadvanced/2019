{
 "cells": [
  {
   "cell_type": "markdown",
   "metadata": {},
   "source": [
    "# cours ***Python avancé*** - semaine 7"
   ]
  },
  {
   "cell_type": "markdown",
   "metadata": {},
   "source": [
    "le thème du jour :\n",
    "* finaliser les fonctions\n",
    "* révisions et consolidations"
   ]
  },
  {
   "cell_type": "markdown",
   "metadata": {
    "slideshow": {
     "slide_type": "subslide"
    }
   },
   "source": [
    "## les fonctions\n",
    "\n",
    "tous les groupes ne sont pas arrivés au même point concernant les fonctions; \n",
    "reprendre si nécessaire [le cours #6](cours6.ipynb) pour avoir couvert entre autres\n",
    "\n",
    "* slides Aurélien : passage des paramètres, *lambda expressions*, et *closures*, générateurs, \n",
    "  `itertools`, `map`, `filter`, et si le temps le permet l'introduction au lambda calcul \n",
    "\n",
    "* exercices sur les fonctions  \n",
    "  on pourra ajouter, sans support, une répétition sur le mode d'emploi de `sort`,\n",
    "  `sorted`, `reverse` et `reversed`, et l'illustration sur cet exercice\n",
    "  https://nbhosting.inria.fr/auditor/notebook/python3-s2:exos/w5/w5-s2-x1-multi-tri\n",
    "\n",
    "* type hints\n",
    "\n",
    "* le notebook exploratoire sur l'implémentation de `contour` à partir de `contour_simple`"
   ]
  },
  {
   "cell_type": "markdown",
   "metadata": {},
   "source": [
    "### et toujours en option :\n",
    "\n",
    "* des notebooks extraits du MOOC qui illustrent quelques **autres outils** pour **créer** de nouveaux **types**\n",
    "  * les `Enum`s : <https://nbhosting.inria.fr/auditor/notebook/python3-s2:mooc/w6/w6-s3-c4-enums>\n",
    "  * les `namedtuple`s : <https://nbhosting.inria.fr/auditor/notebook/python3-s2:mooc/w6/w6-s3-c2-namedtuple>\n",
    "  * les `dataclass`es : <https://nbhosting.inria.fr/auditor/notebook/python3-s2:mooc/w6/w6-s3-c3-dataclasses>"
   ]
  },
  {
   "cell_type": "markdown",
   "metadata": {},
   "source": [
    "### lecture de code : \n",
    "* le code du serpent (du cours #1) écrit sous forme de classes  \n",
    "  un code que vous devriez maintenant être capable de lire en entier  \n",
    "    https://github.com/pythonadvanced/snake-step-by-step/tree/multiclass  "
   ]
  },
  {
   "cell_type": "markdown",
   "metadata": {},
   "source": [
    "## rappel - solutions\n",
    "\n",
    "lorsqu'elles sont publiées, les solutions se trouvent dans :\n",
    "https://github.com/pythonadvanced/solutions\n",
    "\n",
    "***"
   ]
  }
 ],
 "metadata": {
  "jupytext": {
   "cell_metadata_filter": "all",
   "notebook_metadata_filter": "all,-language_info",
   "text_representation": {
    "extension": ".py",
    "format_name": "percent",
    "format_version": "1.2",
    "jupytext_version": "1.1.7"
   }
  },
  "kernelspec": {
   "display_name": "Python 3",
   "language": "python",
   "name": "python3"
  },
  "language_info": {
   "codemirror_mode": {
    "name": "ipython",
    "version": 3
   },
   "file_extension": ".py",
   "mimetype": "text/x-python",
   "name": "python",
   "nbconvert_exporter": "python",
   "pygments_lexer": "ipython3",
   "version": "3.7.3"
  },
  "notebookname": "classes (fin) et fonctions"
 },
 "nbformat": 4,
 "nbformat_minor": 4
}
