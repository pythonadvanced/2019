{
 "cells": [
  {
   "cell_type": "markdown",
   "metadata": {},
   "source": [
    "# cours \"python avancé\" -- semaine 5"
   ]
  },
  {
   "cell_type": "markdown",
   "metadata": {},
   "source": [
    "## **INSTALLATIONS**\n",
    "\n",
    "***IMPORTANT*** \n",
    "\n",
    "**\n",
    "Pour les cours qui ont lieu après les MIG à partir du 4 décembre, on prévoit de quitter progressivement la plateforme nbhosting pour fonctionner en autonomie sur vos propres ordis. \n",
    "\n",
    "Il vous est donc demandé de prendre le temps d'installer un environnement décent; \n",
    "voyez ci-joint [un petit guide pour vous aider à vérifier](cours5-installations.ipynb) si votre environnement est correctement configuré."
   ]
  },
  {
   "cell_type": "markdown",
   "metadata": {},
   "source": [
    "## les classes\n",
    "\n",
    "* slides : (56) encapsulation, et introduction aux espaces de nom  \n",
    "  <https://nbhosting.inria.fr/auditor/notebook/python-slides:slides/slides/06-1-classes-encapsulation>\n",
    "  \n",
    "* exos : properties  \n",
    "  <https://nbhosting.inria.fr/auditor/notebook/python3-s2:exos/w6/w6-s9-x3-temperature>\n",
    "  \n",
    "* slides : (57) l'héritage en Python  \n",
    "  <https://nbhosting.inria.fr/auditor/notebook/python-slides:slides/slides/06-2-classes-heritage>\n",
    "\n",
    "* exos : ??? \n",
    "\n",
    "* slides : (42) la surcharge des opérateurs  \n",
    "  <https://nbhosting.inria.fr/auditor/notebook/python-slides:slides/slides/06-3-surcharge-operateurs>\n",
    "  \n",
    "* exos : la classe `Polynomial`  \n",
    "  <https://nbhosting.inria.fr/auditor/notebook/python3-s2:exos/w6/w6-s9-x2-polynomial>"
   ]
  },
  {
   "cell_type": "markdown",
   "metadata": {},
   "source": [
    "## rappel - solutions\n",
    "\n",
    "lorsqu'elles sont publiées, les solutions se trouvent dans :\n",
    "https://github.com/pythonadvanced/solutions\n",
    "\n",
    "***"
   ]
  }
 ],
 "metadata": {
  "jupytext": {
   "cell_metadata_filter": "all",
   "notebook_metadata_filter": "all,-language_info",
   "text_representation": {
    "extension": ".py",
    "format_name": "percent",
    "format_version": "1.2",
    "jupytext_version": "1.1.7"
   }
  },
  "kernelspec": {
   "display_name": "Python 3",
   "language": "python",
   "name": "python3"
  },
  "language_info": {
   "codemirror_mode": {
    "name": "ipython",
    "version": 3
   },
   "file_extension": ".py",
   "mimetype": "text/x-python",
   "name": "python",
   "nbconvert_exporter": "python",
   "pygments_lexer": "ipython3",
   "version": "3.7.3"
  },
  "notebookname": "itérations et classes"
 },
 "nbformat": 4,
 "nbformat_minor": 4
}
