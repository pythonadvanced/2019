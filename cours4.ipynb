{
 "cells": [
  {
   "cell_type": "markdown",
   "metadata": {},
   "source": [
    "# cours \"python avancé\" -- semaine 4\n"
   ]
  },
  {
   "cell_type": "markdown",
   "metadata": {},
   "source": [
    "## retours sur les itérations\n",
    "\n",
    "* slides : terminer les slides sur les 1001 façons d'itérer en Python :  \n",
    "  la boucle `for`, itérateurs de la librairie standard,  \n",
    "  compréhensions, expressions génératrices, et fonctions génératrices\n",
    "  <https://nbhosting.inria.fr/auditor/notebook/python-slides:slides/slides/03-3-iterations>\n",
    "\n",
    "* exos : \n",
    "\n",
    "  * le code vigenere : <https://nbhosting.inria.fr/auditor/notebook/python3-s2:exos/w5/w5-s3-x2-vigenere>\n",
    "  * compréhensions : <https://nbhosting.inria.fr/auditor/notebook/python3-s2:exos/w5/w5-s3-x1-comprehensions>\n",
    "  * itérateurs et générateurs :  <https://nbhosting.inria.fr/auditor/notebook/python3-s2:exos/w6/w6-s9-x4-primes>\n",
    "\n",
    "## introduction aux classes\n",
    "\n",
    "* slides : encapsulation, et introduction aux espaces de nom  \n",
    "  <https://nbhosting.inria.fr/auditor/notebook/python-slides:slides/slides/06-1-classes-encapsulation>\n",
    "  \n",
    "* exos : properties  \n",
    "  <https://nbhosting.inria.fr/auditor/notebook/python3-s2:exos/w6/w6-s9-x3-temperature>\n",
    "  \n",
    "* slides : l'héritage en Python  \n",
    "  <https://nbhosting.inria.fr/auditor/notebook/python-slides:slides/slides/06-2-classes-heritage>\n"
   ]
  },
  {
   "cell_type": "markdown",
   "metadata": {},
   "source": [
    "## rappel - solutions\n",
    "\n",
    "lorsqu'elles sont publiées, les solutions se trouvent dans :\n",
    "https://github.com/pythonadvanced/solutions\n",
    "\n",
    "***"
   ]
  }
 ],
 "metadata": {
  "jupytext": {
   "cell_metadata_filter": "all",
   "notebook_metadata_filter": "all,-language_info",
   "text_representation": {
    "extension": ".py",
    "format_name": "percent",
    "format_version": "1.2",
    "jupytext_version": "1.1.7"
   }
  },
  "kernelspec": {
   "display_name": "Python 3",
   "language": "python",
   "name": "python3"
  },
  "language_info": {
   "codemirror_mode": {
    "name": "ipython",
    "version": 3
   },
   "file_extension": ".py",
   "mimetype": "text/x-python",
   "name": "python",
   "nbconvert_exporter": "python",
   "pygments_lexer": "ipython3",
   "version": "3.7.3"
  }
 },
 "nbformat": 4,
 "nbformat_minor": 4
}
